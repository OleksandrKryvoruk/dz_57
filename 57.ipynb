{
 "cells": [
  {
   "cell_type": "markdown",
   "id": "4d5d250e",
   "metadata": {},
   "source": [
    "## Завдання.  \n",
    "\n",
    "Можна використовувати бібліотеку PIL або бібліотеку openCV\n",
    "1. Створіть функцію для зчитування зображення з диску та його відображення на екрані.\n",
    "2. Створіть функцію для збереження зображення на диск.\n",
    "3. Створіть функції для реалізації наступних піксельних операцій:\n",
    "- зміна контрастності (задання коефіцієнту контрастності та яскравості);\n",
    "- зміна яскравості (задання коефіцієнту яскравості);\n",
    "- зміна насиченості (задання коефіцієнту насиченості);\n",
    "- зміна розміру зображення (задання нової ширини та висоти);\n",
    "- обрізання зображення (задання координат початку та кінця обрізання);\n",
    "- поворот зображення на заданий кут (задання кута повороту в градусах).\n"
   ]
  },
  {
   "cell_type": "code",
   "execution_count": 50,
   "id": "e1083c56",
   "metadata": {},
   "outputs": [],
   "source": [
    "from PIL import Image, ImageEnhance"
   ]
  },
  {
   "cell_type": "code",
   "execution_count": 67,
   "id": "e0e983e4",
   "metadata": {},
   "outputs": [],
   "source": [
    "def read_show_img(filename, show = True):\n",
    "    try:\n",
    "        image = Image.open(filename)\n",
    "        if show:\n",
    "            image.show('Original image')\n",
    "        return image\n",
    "    except IOError:\n",
    "        print(\"Unable to load image\")       \n",
    "    \n",
    "def save_img(image, filename, path = '.\\\\Img\\\\'):\n",
    "    image.save(path + filename + '.jpg')\n",
    "    \n",
    "def set_contrast(image, contrast=1, show = True):\n",
    "    enhancer_cntr = ImageEnhance.Contrast(image)\n",
    "    image = enhancer_cntr.enhance(contrast)\n",
    "    if show:\n",
    "        image.show()\n",
    "    return image\n",
    "\n",
    "def set_brightness(image, brightness=1, show = True):\n",
    "    enhancer_br = ImageEnhance.Brightness(image)\n",
    "    image = enhancer_br.enhance(brightness)\n",
    "    if show:\n",
    "        image.show()\n",
    "    return image\n",
    "\n",
    "def saturation_img(image, saturation=1, show = True):\n",
    "    img_sat = ImageEnhance.Color(image).enhance(saturation)    \n",
    "    if show:\n",
    "        img_sat.show()\n",
    "    return img_sat\n",
    "\n",
    "def resize_img(image, width, height, show = True):\n",
    "    img = image.resize((width, height))\n",
    "    if show:\n",
    "        img.show()\n",
    "    return img\n",
    "\n",
    "def cut_img(image, box, show = True):\n",
    "    cut_img = image.crop(box)\n",
    "    if show:\n",
    "        cut_img.show()\n",
    "    return cut_img\n",
    "\n",
    "def rotate_img(image, slope=0, show = True):\n",
    "    rot_image = image.rotate(slope)\n",
    "    if show:\n",
    "        rot_image.show()\n",
    "    return rot_image\n",
    "    "
   ]
  },
  {
   "cell_type": "code",
   "execution_count": 52,
   "id": "d66a163b",
   "metadata": {},
   "outputs": [],
   "source": [
    "filename = '.\\Img\\img_02.jpg'\n",
    "img = read_show_img(filename)"
   ]
  },
  {
   "cell_type": "code",
   "execution_count": 68,
   "id": "21af3fa9",
   "metadata": {},
   "outputs": [],
   "source": [
    "save_img(img, 'original')"
   ]
  },
  {
   "cell_type": "code",
   "execution_count": 54,
   "id": "fa808750",
   "metadata": {},
   "outputs": [],
   "source": [
    "im = set_contrast(img, 2)\n",
    "save_img(im, 'contrast')"
   ]
  },
  {
   "cell_type": "code",
   "execution_count": 56,
   "id": "470a1438",
   "metadata": {},
   "outputs": [],
   "source": [
    "im = set_brightness(img, 0.7)\n",
    "save_img(im, 'brightness')"
   ]
  },
  {
   "cell_type": "code",
   "execution_count": 63,
   "id": "9a9e144b",
   "metadata": {},
   "outputs": [],
   "source": [
    "im = saturation_img(img, 2.5)\n",
    "save_img(im, 'saturation')"
   ]
  },
  {
   "cell_type": "code",
   "execution_count": 64,
   "id": "ef0cc5d7",
   "metadata": {},
   "outputs": [],
   "source": [
    "im = resize_img(img, 600, 400)\n",
    "save_img(im, 'resize')"
   ]
  },
  {
   "cell_type": "code",
   "execution_count": 65,
   "id": "7ff0e2d1",
   "metadata": {},
   "outputs": [],
   "source": [
    "im = cut_img(img, (30, 90, 200, 400))\n",
    "save_img(im, 'cut')"
   ]
  },
  {
   "cell_type": "code",
   "execution_count": 66,
   "id": "d24686e9",
   "metadata": {},
   "outputs": [],
   "source": [
    "im = rotate_img(img, 180)\n",
    "save_img(im, 'rotate')"
   ]
  }
 ],
 "metadata": {
  "kernelspec": {
   "display_name": "Python 3 (ipykernel)",
   "language": "python",
   "name": "python3"
  },
  "language_info": {
   "codemirror_mode": {
    "name": "ipython",
    "version": 3
   },
   "file_extension": ".py",
   "mimetype": "text/x-python",
   "name": "python",
   "nbconvert_exporter": "python",
   "pygments_lexer": "ipython3",
   "version": "3.9.7"
  }
 },
 "nbformat": 4,
 "nbformat_minor": 5
}
